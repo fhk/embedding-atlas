{
 "cells": [
  {
   "cell_type": "code",
   "execution_count": null,
   "id": "8ce7f288-2d83-47ee-ac51-741126d4e3bd",
   "metadata": {},
   "outputs": [],
   "source": [
    "from embedding_atlas.widget import EmbeddingAtlasWidget\n",
    "from embedding_atlas.projection import compute_text_projection\n",
    "import pandas as pd\n",
    "from datasets import load_dataset"
   ]
  },
  {
   "cell_type": "code",
   "execution_count": null,
   "id": "69f21f68-c20e-4055-b073-5ab6c8f89913",
   "metadata": {},
   "outputs": [],
   "source": [
    "# Load a dataset\n",
    "ds = load_dataset(\"james-burton/wine_reviews\", split=\"validation\")\n",
    "df = pd.DataFrame(ds)"
   ]
  },
  {
   "cell_type": "code",
   "execution_count": null,
   "id": "2a927e7d-8dda-4d6b-ae88-60cceb6f9678",
   "metadata": {},
   "outputs": [],
   "source": [
    "# Compute text embedding and projection of the embedding\n",
    "compute_text_projection(df, text=\"description\", x=\"projection_x\", y=\"projection_y\", neighbors=\"neighbors\")"
   ]
  },
  {
   "cell_type": "code",
   "execution_count": null,
   "id": "a82b7b13-2024-4ff9-b96d-8b21048ca2cf",
   "metadata": {},
   "outputs": [],
   "source": [
    "# Display the dataset with the Embedding Atlas widget\n",
    "w = EmbeddingAtlasWidget(df, text=\"description\", x=\"projection_x\", y=\"projection_y\", neighbors=\"neighbors\")\n",
    "w"
   ]
  },
  {
   "cell_type": "code",
   "execution_count": null,
   "id": "e42251b5-0e9f-4191-81fd-64522118f1cd",
   "metadata": {},
   "outputs": [],
   "source": [
    "# Get the selection from the widget as a dataframe\n",
    "w.selection()"
   ]
  },
  {
   "cell_type": "code",
   "execution_count": null,
   "id": "4d2f6448-3ce9-4529-a81a-9caf3376be57",
   "metadata": {},
   "outputs": [],
   "source": []
  }
 ],
 "metadata": {
  "kernelspec": {
   "display_name": "Python 3 (ipykernel)",
   "language": "python",
   "name": "python3"
  },
  "language_info": {
   "codemirror_mode": {
    "name": "ipython",
    "version": 3
   },
   "file_extension": ".py",
   "mimetype": "text/x-python",
   "name": "python",
   "nbconvert_exporter": "python",
   "pygments_lexer": "ipython3",
   "version": "3.12.7"
  }
 },
 "nbformat": 4,
 "nbformat_minor": 5
}
